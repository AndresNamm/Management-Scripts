{
 "cells": [
  {
   "cell_type": "markdown",
   "metadata": {
    "collapsed": true
   },
   "source": [
    "# Get filenames in certain directory in a list and format them.  [TUTORIAL](https://stackoverflow.com/questions/3207219/how-do-i-list-all-files-of-a-directory)"
   ]
  },
  {
   "cell_type": "markdown",
   "metadata": {},
   "source": [
    "1. List All files in Directory  "
   ]
  },
  {
   "cell_type": "code",
   "execution_count": 2,
   "metadata": {},
   "outputs": [],
   "source": [
    "def modifyDirectory(dirPath):\n",
    "    changList=\"\"\n",
    "    for i in dirPath:\n",
    "        if i == \"\\\\\":\n",
    "            changList= changList+\"/\"\n",
    "        else:\n",
    "            changList= changList+i\n",
    "    return changList"
   ]
  },
  {
   "cell_type": "code",
   "execution_count": 3,
   "metadata": {},
   "outputs": [
    {
     "ename": "FileNotFoundError",
     "evalue": "[WinError 3] The system cannot find the path specified: 'D:/OneDrive - Advokaadibüroo Küllike Namm OÜ/HKU/THESIS/PreviousTAwork/Incident Detection Package/References/References 3 - Incident Detection with Social Media'",
     "traceback": [
      "\u001b[0;31m---------------------------------------------------------------------------\u001b[0m",
      "\u001b[0;31mFileNotFoundError\u001b[0m                         Traceback (most recent call last)",
      "\u001b[0;32m<ipython-input-3-9f3427b92244>\u001b[0m in \u001b[0;36m<module>\u001b[0;34m()\u001b[0m\n\u001b[1;32m      5\u001b[0m \u001b[0mdirPath\u001b[0m \u001b[1;33m=\u001b[0m \u001b[1;34m'D:\\OneDrive - Advokaadibüroo Küllike Namm OÜ\\HKU\\THESIS\\PreviousTAwork\\Incident Detection Package\\References\\References 3 - Incident Detection with Social Media'\u001b[0m\u001b[1;33m\u001b[0m\u001b[0m\n\u001b[1;32m      6\u001b[0m \u001b[0mchangList\u001b[0m\u001b[1;33m=\u001b[0m\u001b[0mmodifyDirectory\u001b[0m\u001b[1;33m(\u001b[0m\u001b[0mdirPath\u001b[0m\u001b[1;33m)\u001b[0m\u001b[1;33m\u001b[0m\u001b[0m\n\u001b[0;32m----> 7\u001b[0;31m \u001b[0mfiles\u001b[0m \u001b[1;33m=\u001b[0m \u001b[0mos\u001b[0m\u001b[1;33m.\u001b[0m\u001b[0mlistdir\u001b[0m\u001b[1;33m(\u001b[0m\u001b[0mchangList\u001b[0m\u001b[1;33m)\u001b[0m\u001b[1;33m\u001b[0m\u001b[0m\n\u001b[0m\u001b[1;32m      8\u001b[0m \u001b[1;32mfor\u001b[0m \u001b[0mfile\u001b[0m \u001b[1;32min\u001b[0m \u001b[0mfiles\u001b[0m\u001b[1;33m:\u001b[0m\u001b[1;33m\u001b[0m\u001b[0m\n\u001b[1;32m      9\u001b[0m     \u001b[0mprint\u001b[0m\u001b[1;33m(\u001b[0m\u001b[0mfile\u001b[0m\u001b[1;33m)\u001b[0m\u001b[1;33m\u001b[0m\u001b[0m\n",
      "\u001b[0;31mFileNotFoundError\u001b[0m: [WinError 3] The system cannot find the path specified: 'D:/OneDrive - Advokaadibüroo Küllike Namm OÜ/HKU/THESIS/PreviousTAwork/Incident Detection Package/References/References 3 - Incident Detection with Social Media'"
     ],
     "output_type": "error"
    }
   ],
   "source": [
    "import os\n",
    "\n",
    "# Insert Directory Here\n",
    "#dirPath =  'D:\\OneDrive - Advokaadibüroo Küllike Namm OÜ\\HKU\\THESIS\\PreviousTAwork\\Incident Detection Package\\References\\References 2 - Traffic Incident Detection'\n",
    "dirPath = 'D:\\OneDrive - Advokaadibüroo Küllike Namm OÜ\\HKU\\THESIS\\PreviousTAwork\\Incident Detection Package\\References\\References 3 - Incident Detection with Social Media'\n",
    "changList=modifyDirectory(dirPath)\n",
    "files = os.listdir(changList)\n",
    "for file in files:\n",
    "    print(file)"
   ]
  },
  {
   "cell_type": "markdown",
   "metadata": {},
   "source": [
    "2. Modify the list for markdown referencing"
   ]
  },
  {
   "cell_type": "code",
   "execution_count": 37,
   "metadata": {
    "collapsed": true
   },
   "outputs": [
    {
     "name": "stdout",
     "output_type": "stream",
     "text": [
      "[^8]: [HKSTS'16] Estimating Traffic States And Identifying Their Causes and Effects Through Probe and Social Media Data Analysis.pdf  \n[^9]:  [IJCAI'13] Improving Traffic Prediction with Tweet Semantics.pdf  \n[^10]: [ECMLPKDD'16] Enhancing Traffic Congestion Estimation with Social Media by Coupled Hidden Markov Model.pdf  \n[^11]: [SIGSPATIAL LBSN'12] Traffic Observatory_A System to Detect and Locate Traffic Events and Conditions Using Twitter.pdf  \n[^12]: [IUI'13] Westland Row Why So Slow Fusing Social Media and Linked Data Sources for Understanding Real-time Traffic Conditions.pdf  \n[^13]: [SIGSPATIAL GIS'15] Citywide Traffic Congestion Estimation with Social Media.pdf  \n[^14]: [IEEE MDM'2016] Estimating Urban Traffic Congestions with Multi-sourced Data.pdf  \n[^15]: [ICDM'14] Road Traffic Congestion Monitoring in Social Media with Hinge-loss Markov Random Fields.pdf  \n[^16]: [SIGSPATIAL GIS'14] A Search and Summary Application for Traffic Events Detection Based on Twitter Data.pdf  \n[^17]: [ICWSM'09] Event Detection and Tracking in Social Streams.pdf  \n"
     ]
    }
   ],
   "source": [
    "cnt = 8\n",
    "for file in files:\n",
    "    print('[^'+str(cnt)+']: ' + file[3:len(file)]+'  ' )\n",
    "    cnt+=1"
   ]
  },
  {
   "cell_type": "markdown",
   "metadata": {},
   "source": [
    "# Get Key-Value pairs from 1 file. Use this file to change keys to values in another file. \n",
    "I wanna use regex for this.  I went through the full [tutorial](https://regexone.com/lesson/repeating_characters). For quick reference, [this site](http://code.runnable.com/UqV9JYh03AFGAACS/how-to-use-findall-finditer-split-sub-and-subn-in-regular-expressions-in-python-for-regex) is better."
   ]
  },
  {
   "cell_type": "markdown",
   "metadata": {},
   "source": [
    "1. Get Key Values From file. \n",
    "\n"
   ]
  },
  {
   "cell_type": "code",
   "execution_count": 118,
   "metadata": {},
   "outputs": [],
   "source": [
    "import regex\n",
    "\n",
    "file = open(modifyDirectory(\"D:\\OneDrive - Advokaadibüroo Küllike Namm OÜ\\HKU\\THESIS\\ManagementScripts\\Input\\KeysValues.txt\"))\n",
    "references = {}\n",
    "for row in file:\n",
    "    keyvalue=regex.search(\"\\\\[\\\\^(\\\\d+)\\\\].+\\\\[@(.+)\\\\]\",row)\n",
    "    if keyvalue:\n",
    "        references[keyvalue.group(1)]=keyvalue.group(2)"
   ]
  },
  {
   "cell_type": "markdown",
   "metadata": {},
   "source": [
    "2, Get keys from another document and replace them with values from the above-generated dictionary."
   ]
  },
  {
   "cell_type": "code",
   "execution_count": null,
   "metadata": {},
   "outputs": [],
   "source": [
    "input = open(modifyDirectory(\"D:\\OneDrive - Advokaadibüroo Küllike Namm OÜ\\HKU\\THESIS\\ManagementScripts\\Input\\input.txt\"))\n",
    "text=[]\n",
    "for row in input: \n",
    "    text.append(row)\n",
    "# http://code.runnable.com/UqV9JYh03AFGAACS/how-to-use-findall-finditer-split-sub-and-subn-in-regular-expressions-in-python-for-regex\n",
    "ans=[]\n",
    "for i in text:\n",
    "    temp =i\n",
    "    #matches = regex.finditer(\"\\\\cite\\\\{\\\\^(\\\\d+)\\\\}\",i)\n",
    "    matches = regex.finditer(\"\\\\cite\\\\{(\\\\d+)\\\\}\",i)\n",
    "\n",
    "    for match in matches:\n",
    "        indx=match.group(1)\n",
    "        if indx in references:\n",
    "            temp=temp.replace(match.group(), \"cite{\" + references[indx] + \"}\" )\n",
    "    ans.append(temp)\n",
    "\n",
    "for i in ans:\n",
    "    if not regex.search(\"^\\\\n$\", i):\n",
    "        print(i)\n",
    "\n",
    "\n",
    "        #temp=temp.replace(match,regex.search(\"\\\\d+\",match))\n",
    "   # print(temp)\n",
    "    #quotation=regex.sub(\"cite\\\\{\\\\^\\\\d+\\\\}\",\"peeter\",i)\n",
    "    #print(quotation)"
   ]
  },
  {
   "cell_type": "code",
   "execution_count": 42,
   "metadata": {},
   "outputs": [],
   "source": [
    ""
   ]
  },
  {
   "cell_type": "code",
   "execution_count": null,
   "metadata": {},
   "outputs": [],
   "source": [
    ""
   ]
  }
 ],
 "metadata": {
  "kernelspec": {
   "display_name": "Python 2",
   "language": "python",
   "name": "python2"
  },
  "language_info": {
   "codemirror_mode": {
    "name": "ipython",
    "version": 2.0
   },
   "file_extension": ".py",
   "mimetype": "text/x-python",
   "name": "python",
   "nbconvert_exporter": "python",
   "pygments_lexer": "ipython2",
   "version": "2.7.6"
  }
 },
 "nbformat": 4,
 "nbformat_minor": 0
}